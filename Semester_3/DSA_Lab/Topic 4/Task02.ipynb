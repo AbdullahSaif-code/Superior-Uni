{
 "cells": [
  {
   "cell_type": "markdown",
   "id": "23332602",
   "metadata": {},
   "source": [
    "# Evaluating Postfix Expressions Using Stacks"
   ]
  },
  {
   "cell_type": "code",
   "execution_count": null,
   "id": "7d4ebd79",
   "metadata": {},
   "outputs": [],
   "source": [
    "class postfix:\n",
    "    def __init__(self):\n",
    "        self.stack=[]\n",
    "\n",
    "    def process(self, statement):\n",
    "        for i in statement:\n",
    "            if i.isdigit():\n",
    "                self.stack.append(int(i))\n",
    "            else:\n",
    "                a1=self.stack.pop()\n",
    "                a2=self.stack.pop()\n",
    "                if i==\"+\":\n",
    "                    self.stack.append(a1+a2)\n",
    "                elif i==\"-\":\n",
    "                    self.stack.append(a1-a2)\n",
    "                elif i==\"*\":\n",
    "                    self.stack.append(a1*a2)\n",
    "                elif i==\"/\":\n",
    "                    self.stack.append(a1/a2)\n",
    "                else:\n",
    "                    print(\"Invalid operator. Ending....\")\n",
    "                    break\n",
    "        return self.stack.pop()\n",
    "statement = input(\"Enter a statement: \")\n",
    "obj1 = postfix()\n",
    "ans = obj1.process(statement)\n",
    "print(f\"The result of the postfix expression \\'{statement}\\' is: {ans}\")"
   ]
  }
 ],
 "metadata": {
  "language_info": {
   "name": "python"
  }
 },
 "nbformat": 4,
 "nbformat_minor": 5
}
