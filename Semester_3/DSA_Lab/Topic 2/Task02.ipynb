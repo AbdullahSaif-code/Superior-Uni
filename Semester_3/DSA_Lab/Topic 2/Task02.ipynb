{
 "cells": [
  {
   "cell_type": "markdown",
   "metadata": {},
   "source": [
    "# Finding the Longest Substring Without Repeating Characters"
   ]
  },
  {
   "cell_type": "markdown",
   "metadata": {},
   "source": [
    "```python\n",
    "import time\n",
    "```\n"
   ]
  },
  {
   "cell_type": "code",
   "execution_count": 1,
   "metadata": {},
   "outputs": [
    {
     "name": "stdout",
     "output_type": "stream",
     "text": [
      "Input string: abcabcbb\n",
      "Brute force result: ('abc', 3), Time: 0.000057 seconds\n",
      "Sliding window result: ('abc', 3), Time: 0.000026 seconds\n",
      "--------------------------------------------------\n",
      "Input string: bbbbb\n",
      "Brute force result: ('b', 1), Time: 0.000081 seconds\n",
      "Sliding window result: ('b', 1), Time: 0.000018 seconds\n",
      "--------------------------------------------------\n",
      "Input string: pwwkew\n",
      "Brute force result: ('wke', 3), Time: 0.000024 seconds\n",
      "Sliding window result: ('wke', 3), Time: 0.000013 seconds\n",
      "--------------------------------------------------\n",
      "Input string: abcdef\n",
      "Brute force result: ('abcdef', 6), Time: 0.000025 seconds\n",
      "Sliding window result: ('abcdef', 6), Time: 0.000012 seconds\n",
      "--------------------------------------------------\n",
      "Input string: aab\n",
      "Brute force result: ('ab', 2), Time: 0.000012 seconds\n",
      "Sliding window result: ('ab', 2), Time: 0.000008 seconds\n",
      "--------------------------------------------------\n",
      "Input string: dvdf\n",
      "Brute force result: ('vdf', 3), Time: 0.000009 seconds\n",
      "Sliding window result: ('vdf', 3), Time: 0.000006 seconds\n",
      "--------------------------------------------------\n",
      "Input string: \n",
      "Brute force result: ('', 0), Time: 0.000003 seconds\n",
      "Sliding window result: ('', 0), Time: 0.000002 seconds\n",
      "--------------------------------------------------\n"
     ]
    }
   ],
   "source": [
    "import time\n",
    "\n",
    "# Brute force method (O(n²) complexity)\n",
    "def longest_substring_brute_force(s):\n",
    "    n = len(s)\n",
    "    max_length = 0\n",
    "    longest_substring = \"\"\n",
    "    \n",
    "    for i in range(n):\n",
    "        seen = set()\n",
    "        current_substring = \"\"\n",
    "        for j in range(i, n):\n",
    "            if s[j] in seen:\n",
    "                break\n",
    "            seen.add(s[j])\n",
    "            current_substring += s[j]\n",
    "        if len(current_substring) > max_length:\n",
    "            max_length = len(current_substring)\n",
    "            longest_substring = current_substring\n",
    "    \n",
    "    return longest_substring, max_length\n",
    "\n",
    "# Sliding window method (O(n) complexity)\n",
    "def longest_substring_sliding_window(s):\n",
    "    char_index_map = {}\n",
    "    start = 0\n",
    "    max_length = 0\n",
    "    longest_substring = \"\"\n",
    "    \n",
    "    for end in range(len(s)):\n",
    "        if s[end] in char_index_map and char_index_map[s[end]] >= start:\n",
    "            start = char_index_map[s[end]] + 1\n",
    "        char_index_map[s[end]] = end\n",
    "        current_length = end - start + 1\n",
    "        if current_length > max_length:\n",
    "            max_length = current_length\n",
    "            longest_substring = s[start:end + 1]\n",
    "    \n",
    "    return longest_substring, max_length\n",
    "\n",
    "# Test cases and execution time comparison\n",
    "def compare_methods():\n",
    "    test_cases = [\n",
    "        \"abcabcbb\",\n",
    "        \"bbbbb\",\n",
    "        \"pwwkew\",\n",
    "        \"abcdef\",\n",
    "        \"aab\",\n",
    "        \"dvdf\",\n",
    "        \"\"\n",
    "    ]\n",
    "    \n",
    "    for s in test_cases:\n",
    "        print(f\"Input string: {s}\")\n",
    "        \n",
    "        # Brute force method\n",
    "        start_time = time.time()\n",
    "        result_brute_force = longest_substring_brute_force(s)\n",
    "        brute_force_time = time.time() - start_time\n",
    "        print(f\"Brute force result: {result_brute_force}, Time: {brute_force_time:.6f} seconds\")\n",
    "        \n",
    "        # Sliding window method\n",
    "        start_time = time.time()\n",
    "        result_sliding_window = longest_substring_sliding_window(s)\n",
    "        sliding_window_time = time.time() - start_time\n",
    "        print(f\"Sliding window result: {result_sliding_window}, Time: {sliding_window_time:.6f} seconds\")\n",
    "        \n",
    "        print(\"-\" * 50)\n",
    "\n",
    "\n",
    "# Run the comparison\n",
    "compare_methods()"
   ]
  }
 ],
 "metadata": {
  "kernelspec": {
   "display_name": "Python 3",
   "language": "python",
   "name": "python3"
  },
  "language_info": {
   "codemirror_mode": {
    "name": "ipython",
    "version": 3
   },
   "file_extension": ".py",
   "mimetype": "text/x-python",
   "name": "python",
   "nbconvert_exporter": "python",
   "pygments_lexer": "ipython3",
   "version": "3.13.2"
  }
 },
 "nbformat": 4,
 "nbformat_minor": 2
}
