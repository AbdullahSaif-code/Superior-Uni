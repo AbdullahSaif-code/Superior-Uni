{
 "cells": [
  {
   "cell_type": "markdown",
   "id": "8006f95a",
   "metadata": {},
   "source": [
    "# Checking if Two Strings Are Anagrams Using Hashing"
   ]
  },
  {
   "cell_type": "code",
   "execution_count": null,
   "id": "a8f31a2d",
   "metadata": {},
   "outputs": [],
   "source": [
    "def are_anagrams(str1, str2):\n",
    "    if len(str1) != len(str2):\n",
    "        return False\n",
    "\n",
    "    freq = {}\n",
    "    for char in str1:\n",
    "        freq[char] = freq.get(char, 0) + 1\n",
    "\n",
    "    for char in str2:\n",
    "        if char not in freq or freq[char] == 0:\n",
    "            return False\n",
    "        freq[char] -= 1\n",
    "\n",
    "    return all(value == 0 for value in freq.values())\n",
    "\n",
    "# Test cases\n",
    "print(are_anagrams(\"listen\", \"silent\"))\n",
    "print(are_anagrams(\"hello\", \"world\"))\n",
    "print(are_anagrams(\"aabbcc\", \"baccab\"))\n",
    "print(are_anagrams(\"test\", \"ttew\"))\n",
    "\n",
    "# Large strings test\n",
    "s1 = \"a\" * 100000 + \"b\" * 100000\n",
    "s2 = \"b\" * 100000 + \"a\" * 100000\n",
    "print(are_anagrams(s1, s2))  # Output: True"
   ]
  }
 ],
 "metadata": {
  "language_info": {
   "name": "python"
  }
 },
 "nbformat": 4,
 "nbformat_minor": 5
}
