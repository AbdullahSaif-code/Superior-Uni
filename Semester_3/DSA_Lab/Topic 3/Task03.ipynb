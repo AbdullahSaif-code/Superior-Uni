{
 "cells": [
  {
   "cell_type": "markdown",
   "id": "11c6abe2",
   "metadata": {},
   "source": [
    "# Implementing a Doubly Linked List and Reverse Traversal"
   ]
  },
  {
   "cell_type": "code",
   "execution_count": 1,
   "id": "fab99627",
   "metadata": {},
   "outputs": [
    {
     "name": "stdout",
     "output_type": "stream",
     "text": [
      "LinkedList (forward):\n",
      "1 → 2 → 3 → 4 → 5 → None\n",
      "LinkedList (reverse):\n",
      "5 → 4 → 3 → 2 → 1 → None\n"
     ]
    }
   ],
   "source": [
    "class Node:\n",
    "    def __init__(self, data):\n",
    "        self.data = data\n",
    "        self.next = None\n",
    "        self.prev = None\n",
    "\n",
    "\n",
    "class DoublyLinkedList:\n",
    "    def __init__(self):\n",
    "        self.head = None\n",
    "\n",
    "    def insert_at_beginning(self, data):\n",
    "        new_node = Node(data)\n",
    "        if self.head is None:\n",
    "            self.head = new_node\n",
    "        else:\n",
    "            new_node.next = self.head\n",
    "            self.head.prev = new_node\n",
    "            self.head = new_node\n",
    "\n",
    "    def insert_at_end(self, data):\n",
    "        new_node = Node(data)\n",
    "        if self.head is None:\n",
    "            self.head = new_node\n",
    "        else:\n",
    "            temp = self.head\n",
    "            while temp.next:\n",
    "                temp = temp.next\n",
    "            temp.next = new_node\n",
    "            new_node.prev = temp\n",
    "\n",
    "    def delete_at_position(self, position):\n",
    "        if self.head is None or position < 0:\n",
    "            return\n",
    "\n",
    "        temp = self.head\n",
    "\n",
    "        if position == 0:\n",
    "            self.head = temp.next\n",
    "            if self.head:\n",
    "                self.head.prev = None\n",
    "            return\n",
    "\n",
    "        for _ in range(position):\n",
    "            temp = temp.next\n",
    "            if temp is None:\n",
    "                return\n",
    "\n",
    "        if temp.next:\n",
    "            temp.next.prev = temp.prev\n",
    "        if temp.prev:\n",
    "            temp.prev.next = temp.next\n",
    "\n",
    "    def traverse_forward(self):\n",
    "        temp = self.head\n",
    "        while temp:\n",
    "            print(temp.data, end=\" → \")\n",
    "            temp = temp.next\n",
    "        print(\"None\")\n",
    "\n",
    "    def traverse_reverse(self):\n",
    "        temp = self.head\n",
    "        if temp is None:\n",
    "            return\n",
    "\n",
    "        while temp.next:\n",
    "            temp = temp.next\n",
    "\n",
    "        while temp:\n",
    "            print(temp.data, end=\" → \")\n",
    "            temp = temp.prev\n",
    "        print(\"None\")\n",
    "\n",
    "\n",
    "dll = DoublyLinkedList()\n",
    "dll.insert_at_end(1)\n",
    "dll.insert_at_end(2)\n",
    "dll.insert_at_end(3)\n",
    "dll.insert_at_end(4)\n",
    "dll.insert_at_end(5)\n",
    "\n",
    "print(\"LinkedList (forward):\")\n",
    "dll.traverse_forward()\n",
    "\n",
    "print(\"LinkedList (reverse):\")\n",
    "dll.traverse_reverse()"
   ]
  }
 ],
 "metadata": {
  "kernelspec": {
   "display_name": "Python 3",
   "language": "python",
   "name": "python3"
  },
  "language_info": {
   "codemirror_mode": {
    "name": "ipython",
    "version": 3
   },
   "file_extension": ".py",
   "mimetype": "text/x-python",
   "name": "python",
   "nbconvert_exporter": "python",
   "pygments_lexer": "ipython3",
   "version": "3.13.2"
  }
 },
 "nbformat": 4,
 "nbformat_minor": 5
}
