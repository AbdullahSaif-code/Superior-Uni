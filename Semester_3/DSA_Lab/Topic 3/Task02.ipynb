{
 "cells": [
  {
   "cell_type": "markdown",
   "id": "5c4a41d1",
   "metadata": {},
   "source": [
    "# Detecting and Removing a Loop in a Linked List"
   ]
  },
  {
   "cell_type": "code",
   "execution_count": null,
   "id": "e701cacd",
   "metadata": {},
   "outputs": [
    {
     "name": "stdout",
     "output_type": "stream",
     "text": [
      "1 -> 2 -> 3 -> 4 -> 5 -> (3) -> Loop starts here\n",
      "Loop detected at node with value: 4\n",
      "Removing loop at node with value: 3\n",
      "1 -> 2 -> 3 -> 4 -> 5 -> None\n"
     ]
    }
   ],
   "source": [
    "class Node:\n",
    "    def __init__(self, value):\n",
    "        self.value = value\n",
    "        self.next = None\n",
    "\n",
    "class LinkedList:\n",
    "    def __init__(self):\n",
    "        self.head = None\n",
    "\n",
    "    def append(self, value):\n",
    "        new_node = Node(value)\n",
    "        if not self.head:\n",
    "            self.head = new_node\n",
    "            return\n",
    "        current = self.head\n",
    "        while current.next:\n",
    "            current = current.next\n",
    "        current.next = new_node\n",
    "\n",
    "    def detect_and_remove_loop(self):\n",
    "        if not self.head or not self.head.next:\n",
    "            print(\"No loop detected\")\n",
    "            return\n",
    "\n",
    "        slow = self.head\n",
    "        fast = self.head\n",
    "\n",
    "        while fast and fast.next:\n",
    "            slow = slow.next\n",
    "            fast = fast.next.next\n",
    "            if slow == fast:\n",
    "                print(f\"Loop detected at node with value: {slow.value}\")\n",
    "                self.remove_loop(slow)\n",
    "                return\n",
    "\n",
    "        print(\"No loop detected\")\n",
    "\n",
    "    def remove_loop(self, loop_node):\n",
    "        ptr1 = self.head\n",
    "        ptr2 = loop_node\n",
    "\n",
    "        while ptr1.next != ptr2.next:\n",
    "            ptr1 = ptr1.next\n",
    "            ptr2 = ptr2.next\n",
    "\n",
    "        print(f\"Removing loop at node with value: {ptr2.next.value}\")\n",
    "        ptr2.next = None\n",
    "\n",
    "    def print_list(self):\n",
    "        current = self.head\n",
    "        visited = set()\n",
    "        while current:\n",
    "            if current in visited:\n",
    "                print(f\"({current.value}) -> Loop starts here\")\n",
    "                break\n",
    "            print(current.value, end=\" -> \")\n",
    "            visited.add(current)\n",
    "            current = current.next\n",
    "        if not current:\n",
    "            print(\"None\")\n",
    "\n",
    "ll = LinkedList()\n",
    "ll.append(1)\n",
    "ll.append(2)\n",
    "ll.append(3)\n",
    "ll.append(4)\n",
    "ll.append(5)\n",
    "\n",
    "ll.head.next.next.next.next.next = ll.head.next.next\n",
    "\n",
    "ll.print_list()\n",
    "ll.detect_and_remove_loop()\n",
    "ll.print_list()\n"
   ]
  }
 ],
 "metadata": {
  "kernelspec": {
   "display_name": "Python 3",
   "language": "python",
   "name": "python3"
  },
  "language_info": {
   "codemirror_mode": {
    "name": "ipython",
    "version": 3
   },
   "file_extension": ".py",
   "mimetype": "text/x-python",
   "name": "python",
   "nbconvert_exporter": "python",
   "pygments_lexer": "ipython3",
   "version": "3.13.2"
  }
 },
 "nbformat": 4,
 "nbformat_minor": 5
}
