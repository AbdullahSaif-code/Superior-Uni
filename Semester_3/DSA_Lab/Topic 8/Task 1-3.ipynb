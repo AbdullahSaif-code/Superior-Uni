{
 "cells": [
  {
   "cell_type": "markdown",
   "id": "5dd8399d",
   "metadata": {},
   "source": [
    "## Task 1: Implementing a Graph Using Adjacency List & Adjacency Matrix"
   ]
  },
  {
   "cell_type": "code",
   "execution_count": null,
   "id": "2400a051",
   "metadata": {},
   "outputs": [],
   "source": [
    "\n",
    "class Graph:\n",
    "    def __init__(self, vertices, directed=False):\n",
    "        self.vertices = vertices\n",
    "        self.directed = directed\n",
    "        self.adj_list = {i: [] for i in range(vertices)}\n",
    "        self.adj_matrix = [[0 for _ in range(vertices)] for _ in range(vertices)]\n",
    "\n",
    "    def add_edge(self, v1, v2):\n",
    "        self.adj_list[v1].append(v2)\n",
    "        self.adj_matrix[v1][v2] = 1\n",
    "        if not self.directed:\n",
    "            self.adj_list[v2].append(v1)\n",
    "            self.adj_matrix[v2][v1] = 1\n",
    "\n",
    "    def remove_edge(self, v1, v2):\n",
    "        if v2 in self.adj_list[v1]:\n",
    "            self.adj_list[v1].remove(v2)\n",
    "        self.adj_matrix[v1][v2] = 0\n",
    "        if not self.directed:\n",
    "            if v1 in self.adj_list[v2]:\n",
    "                self.adj_list[v2].remove(v1)\n",
    "            self.adj_matrix[v2][v1] = 0\n",
    "\n",
    "    def display(self):\n",
    "        print(\"Adjacency List:\")\n",
    "        for key, value in self.adj_list.items():\n",
    "            print(f\"{key}: {value}\")\n",
    "        print(\"\\nAdjacency Matrix:\")\n",
    "        for row in self.adj_matrix:\n",
    "            print(row)\n",
    "\n",
    "# Test Graph\n",
    "g = Graph(5)\n",
    "g.add_edge(0, 1)\n",
    "g.add_edge(0, 2)\n",
    "g.add_edge(1, 3)\n",
    "g.add_edge(2, 4)\n",
    "g.display()\n"
   ]
  },
  {
   "cell_type": "markdown",
   "id": "20f9fdfb",
   "metadata": {},
   "source": [
    "## Task 2: Implementing Breadth-First Search (BFS) and Depth-First Search (DFS)"
   ]
  },
  {
   "cell_type": "code",
   "execution_count": null,
   "id": "692e45f5",
   "metadata": {},
   "outputs": [],
   "source": [
    "\n",
    "from collections import deque\n",
    "\n",
    "def bfs(graph, start):\n",
    "    visited = []\n",
    "    queue = deque([start])\n",
    "\n",
    "    while queue:\n",
    "        vertex = queue.popleft()\n",
    "        if vertex not in visited:\n",
    "            visited.append(vertex)\n",
    "            queue.extend([neighbor for neighbor in graph.adj_list[vertex] if neighbor not in visited])\n",
    "    return visited\n",
    "\n",
    "def dfs(graph, start, visited=None):\n",
    "    if visited is None:\n",
    "        visited = []\n",
    "    visited.append(start)\n",
    "    for neighbor in graph.adj_list[start]:\n",
    "        if neighbor not in visited:\n",
    "            dfs(graph, neighbor, visited)\n",
    "    return visited\n",
    "\n",
    "# Test BFS and DFS\n",
    "g2 = Graph(6)\n",
    "g2.add_edge(0, 1)\n",
    "g2.add_edge(0, 2)\n",
    "g2.add_edge(1, 3)\n",
    "g2.add_edge(1, 4)\n",
    "g2.add_edge(2, 5)\n",
    "\n",
    "print(\"BFS starting from 0:\", bfs(g2, 0))\n",
    "print(\"DFS starting from 0:\", dfs(g2, 0))\n"
   ]
  },
  {
   "cell_type": "markdown",
   "id": "6802699c",
   "metadata": {},
   "source": [
    "## Task 3: Implementing Dijkstra’s Algorithm for Shortest Path"
   ]
  },
  {
   "cell_type": "code",
   "execution_count": null,
   "id": "d6220db2",
   "metadata": {},
   "outputs": [],
   "source": [
    "\n",
    "import heapq\n",
    "\n",
    "def dijkstra(graph, start):\n",
    "    distances = {node: float('inf') for node in graph}\n",
    "    distances[start] = 0\n",
    "    priority_queue = [(0, start)]\n",
    "\n",
    "    while priority_queue:\n",
    "        current_distance, current_node = heapq.heappop(priority_queue)\n",
    "\n",
    "        if current_distance > distances[current_node]:\n",
    "            continue\n",
    "\n",
    "        for neighbor, weight in graph[current_node].items():\n",
    "            distance = current_distance + weight\n",
    "            if distance < distances[neighbor]:\n",
    "                distances[neighbor] = distance\n",
    "                heapq.heappush(priority_queue, (distance, neighbor))\n",
    "\n",
    "    return distances\n",
    "\n",
    "# Test Dijkstra\n",
    "graph = {\n",
    "    'A': {'B': 4, 'C': 1},\n",
    "    'B': {'A': 4, 'C': 2, 'D': 5},\n",
    "    'C': {'A': 1, 'B': 2, 'D': 8},\n",
    "    'D': {'B': 5, 'C': 8}\n",
    "}\n",
    "\n",
    "print(\"Shortest distances from A:\", dijkstra(graph, 'A'))\n"
   ]
  }
 ],
 "metadata": {
  "language_info": {
   "name": "python"
  }
 },
 "nbformat": 4,
 "nbformat_minor": 5
}
