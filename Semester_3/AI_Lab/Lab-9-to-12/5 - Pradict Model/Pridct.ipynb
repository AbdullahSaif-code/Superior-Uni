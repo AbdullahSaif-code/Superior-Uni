{
 "cells": [
  {
   "cell_type": "markdown",
   "id": "5dfa568b",
   "metadata": {},
   "source": [
    "## Pridct Values form user input"
   ]
  },
  {
   "cell_type": "code",
   "execution_count": null,
   "id": "62a93d64",
   "metadata": {},
   "outputs": [
    {
     "name": "stdout",
     "output_type": "stream",
     "text": [
      "\n",
      "Predicted Car Price: $-232,587.20\n"
     ]
    }
   ],
   "source": [
    "import pandas as pd\n",
    "import joblib\n",
    "\n",
    "# Load the trained model\n",
    "model = joblib.load('./linear_regression_model.joblib')\n",
    "\n",
    "# List of all features used in training (update as needed)\n",
    "all_features = [\n",
    "    'symboling', 'normalized-losses', 'wheel-base', 'length', 'width', 'height',\n",
    "    'curb-weight', 'engine-size', 'bore', 'stroke', 'compression-ratio',\n",
    "    'horsepower', 'peak-rpm', 'city-mpg', 'highway-mpg',\n",
    "    # categorical features (one-hot encoded) will be added automatically\n",
    "]\n",
    "\n",
    "# Take user input for selected parameters\n",
    "user_data = {\n",
    "    'make': input(\"Enter make (e.g., 'audi'): \").lower(),\n",
    "    'fuel-type': input(\"Enter fuel type (e.g., 'gas'): \").lower(),\n",
    "    'aspiration': input(\"Enter aspiration (e.g., 'std'): \").lower(),\n",
    "    'num-of-doors': input(\"Enter number of doors (e.g., 'four'): \").lower(),\n",
    "    'body-style': input(\"Enter body style (e.g., 'sedan'): \").lower(),\n",
    "    'num-of-cylinders': input(\"Enter number of cylinders (e.g., 'four'): \").lower(),\n",
    "    'horsepower': float(input(\"Enter horsepower (e.g., 110): \"))\n",
    "}\n",
    "\n",
    "# Load a sample row from your training data to get all columns and dtypes\n",
    "sample_df = pd.read_csv('../4 - Traning Model/clean_df.csv')\n",
    "sample_row = sample_df.iloc[[0]].copy()\n",
    "\n",
    "# Overwrite with user input\n",
    "for col in ['make', 'fuel-type', 'aspiration', 'num-of-doors', 'body-style', 'num-of-cylinders', 'horsepower']:\n",
    "    sample_row[col] = user_data[col]\n",
    "\n",
    "# Drop the price column if present\n",
    "if 'price' in sample_row.columns:\n",
    "    sample_row = sample_row.drop('price', axis=1)\n",
    "\n",
    "# One-hot encode to match training\n",
    "input_df = pd.get_dummies(sample_row)\n",
    "# Align columns with training features\n",
    "model_features = model.feature_names_in_\n",
    "input_df = input_df.reindex(columns=model_features, fill_value=0)\n",
    "\n",
    "# Predict price\n",
    "predicted_price = model.predict(input_df)[0]\n",
    "print(f\"\\nPredicted Car Price: ${predicted_price:,.2f}\")"
   ]
  },
  {
   "cell_type": "code",
   "execution_count": null,
   "id": "e67858c3",
   "metadata": {},
   "outputs": [],
   "source": []
  }
 ],
 "metadata": {
  "kernelspec": {
   "display_name": "Python 3",
   "language": "python",
   "name": "python3"
  },
  "language_info": {
   "codemirror_mode": {
    "name": "ipython",
    "version": 3
   },
   "file_extension": ".py",
   "mimetype": "text/x-python",
   "name": "python",
   "nbconvert_exporter": "python",
   "pygments_lexer": "ipython3",
   "version": "3.13.2"
  }
 },
 "nbformat": 4,
 "nbformat_minor": 5
}
